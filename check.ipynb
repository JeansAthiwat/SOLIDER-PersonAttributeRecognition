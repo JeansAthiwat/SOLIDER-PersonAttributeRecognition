{
 "cells": [
  {
   "cell_type": "code",
   "execution_count": 61,
   "metadata": {},
   "outputs": [
    {
     "name": "stdout",
     "output_type": "stream",
     "text": [
      "dict_keys(['description', 'reorder', 'root', 'image_name', 'label', 'attr_name', 'label_idx', 'partition', 'weight_train', 'weight_trainval'])\n",
      "26\n",
      "label [[1 0 1 ... 0 0 0]\n",
      " [0 0 1 ... 0 0 0]\n",
      " [1 0 1 ... 0 0 0]\n",
      " ...\n",
      " [1 0 1 ... 0 0 0]\n",
      " [1 0 1 ... 0 0 0]\n",
      " [1 0 1 ... 0 0 0]] \n",
      "\n",
      "partition {'train': array([    0,     1,     2, ..., 79997, 79998, 79999]), 'val': array([80000, 80001, 80002, ..., 89997, 89998, 89999]), 'test': array([90000, 90001, 90002, ..., 99997, 99998, 99999]), 'trainval': array([    0,     1,     2, ..., 89997, 89998, 89999])} \n",
      "\n",
      "weight_train [0.45615   0.0140875 0.9340125 0.0519    0.358975  0.283825  0.3572\n",
      " 0.04395   0.1791375 0.1835    0.191125  0.1475875 0.0096375 0.585975\n",
      " 0.414025  0.0509625 0.1540375 0.108625  0.044     0.00505   0.0177625\n",
      " 0.0282    0.7089875 0.173875  0.1171375 0.0061875] \n",
      "\n"
     ]
    }
   ],
   "source": [
    "import os\n",
    "import pickle\n",
    "import numpy as np\n",
    "\n",
    "pa_pickle = \"/home/deepvisionpoc/Desktop/Jeans/SOLIDER_exp/SOLIDER-PersonAttributeRecognition/data/PA100k/dataset_all.pkl\"\n",
    "\n",
    "with open(pa_pickle, 'rb') as f:\n",
    "    data = pickle.load(f)\n",
    "    \n",
    "print(data.keys())\n",
    "\n",
    "train_label = data.label[0:80000]\n",
    "class_count = np.sum(train_label, axis=0)\n",
    "total_sample = train_label.shape[0]\n",
    "print(len(class_count))\n",
    "# Calculate the class weights\n",
    "class_weights = total_sample / (len(class_count) * class_count)\n",
    "# print(class_weights)\n",
    "# print(\"description\", data.description,'\\n')\n",
    "# print(\"reorder\", data.reorder,'\\n')\n",
    "# print(\"root\", data.root,'\\n')\n",
    "# print(\"image_name\", type(data.image_name),'\\n')\n",
    "print(\"label\", data.label,'\\n')\n",
    "# print(\"attr_name\", data.attr_name,'\\n')\n",
    "# print(\"label_idx\", len(data.label_idx.eval),'\\n')\n",
    "print(\"partition\", data.partition,'\\n')\n",
    "print(\"weight_train\", data.weight_train, '\\n')\n",
    "# print(\"weight_trainval\", data.weight_trainval,'\\n')\n"
   ]
  }
 ],
 "metadata": {
  "kernelspec": {
   "display_name": "jeans",
   "language": "python",
   "name": "python3"
  },
  "language_info": {
   "codemirror_mode": {
    "name": "ipython",
    "version": 3
   },
   "file_extension": ".py",
   "mimetype": "text/x-python",
   "name": "python",
   "nbconvert_exporter": "python",
   "pygments_lexer": "ipython3",
   "version": "3.12.3"
  }
 },
 "nbformat": 4,
 "nbformat_minor": 2
}
